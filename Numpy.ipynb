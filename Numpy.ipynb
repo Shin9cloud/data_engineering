{
 "cells": [
  {
   "cell_type": "markdown",
   "id": "0699a5b7",
   "metadata": {},
   "source": [
    "#### zeros()\n",
    "##### – 괄호 안에 입력된 숫자만큼의 원소를 생성하고 0으로 초기화"
   ]
  },
  {
   "cell_type": "markdown",
   "id": "95d6a78c",
   "metadata": {},
   "source": [
    "##### 없을 경우 설치법\n",
    "##### !pip install numpy"
   ]
  },
  {
   "cell_type": "code",
   "execution_count": 24,
   "id": "51aa09ef",
   "metadata": {},
   "outputs": [
    {
     "data": {
      "text/plain": [
       "array([0., 0., 0., 0., 0., 0., 0., 0., 0., 0.])"
      ]
     },
     "execution_count": 24,
     "metadata": {},
     "output_type": "execute_result"
    }
   ],
   "source": [
    "import numpy as np\n",
    "\n",
    "# y = np.zeros(shape=(10,2), dtype=np.int8)\n",
    "y = np.zeros(10)\n",
    "y\n",
    "\n",
    "# x = np.array([1,2,3])\n",
    "# type(x)\n",
    "# x.shape\n"
   ]
  },
  {
   "cell_type": "markdown",
   "id": "cdf6c457",
   "metadata": {},
   "source": [
    "#### mean() : 배열에 저장된 원소들의 평균값을 계산"
   ]
  },
  {
   "cell_type": "code",
   "execution_count": 36,
   "id": "d08104f4",
   "metadata": {},
   "outputs": [
    {
     "data": {
      "text/plain": [
       "(3,)"
      ]
     },
     "execution_count": 36,
     "metadata": {},
     "output_type": "execute_result"
    }
   ],
   "source": [
    "import numpy as np\n",
    "\n",
    "list_1 = [1,2,3]\n",
    "x = np.array(list_1)\n",
    "np.mean(x)\n",
    "x.mean()\n",
    "x.shape"
   ]
  },
  {
   "cell_type": "markdown",
   "id": "68950acf",
   "metadata": {},
   "source": [
    "#### array() Numpy 형식으로 배열의 원소를 입력할 때는 반드시 리스트 형식으로 입력"
   ]
  },
  {
   "cell_type": "code",
   "execution_count": 43,
   "id": "5648ec3e",
   "metadata": {},
   "outputs": [
    {
     "name": "stdout",
     "output_type": "stream",
     "text": [
      "[1 2 3 3] [1 2 3] {3, 12, 4} {'a': 'c'}\n"
     ]
    }
   ],
   "source": [
    "x = np.array([1,2,3, 3])\n",
    "y = np.array((1,2,3))\n",
    "z = np.array({12,3,4})\n",
    "a = np.array({\"a\":\"b\",\"a\":\"c\"})\n",
    "print(x,y,z,a)"
   ]
  },
  {
   "cell_type": "markdown",
   "id": "a8e6c3f9",
   "metadata": {},
   "source": [
    "#### reshape() 배열을 원하는 모양으로 생성"
   ]
  },
  {
   "cell_type": "code",
   "execution_count": 50,
   "id": "6497d7b0",
   "metadata": {},
   "outputs": [
    {
     "name": "stdout",
     "output_type": "stream",
     "text": [
      "[[1 2 3 4]\n",
      " [5 6 7 8]] (2, 4) \n",
      " [[1 2]\n",
      " [3 4]\n",
      " [5 6]\n",
      " [7 8]] (4, 2)\n"
     ]
    }
   ],
   "source": [
    "import numpy as np\n",
    "a = [1,2,3,4,5,6,7,8]\n",
    "b = np.reshape(a,(2,4))\n",
    "c = np.reshape(a,(4,2))\n",
    "print(b, b.shape, '\\n', c, c.shape)"
   ]
  },
  {
   "cell_type": "markdown",
   "id": "5a5bb697",
   "metadata": {},
   "source": [
    "#### reshape() 3차원 배열 만들기"
   ]
  },
  {
   "cell_type": "code",
   "execution_count": 60,
   "id": "94bd522c",
   "metadata": {},
   "outputs": [
    {
     "name": "stdout",
     "output_type": "stream",
     "text": [
      "[[[1 2]\n",
      "  [3 4]]\n",
      "\n",
      " [[5 6]\n",
      "  [7 8]]]\n"
     ]
    }
   ],
   "source": [
    "a = np.arange(1,9)\n",
    "b = a.reshape(2,2,2)\n",
    "print(b)"
   ]
  },
  {
   "cell_type": "code",
   "execution_count": 55,
   "id": "5fa551d9",
   "metadata": {},
   "outputs": [
    {
     "name": "stdout",
     "output_type": "stream",
     "text": [
      "[ 1  2  3  4  5  6  7  8  9 10 11 12]\n",
      "[[[ 1  2]\n",
      "  [ 3  4]]\n",
      "\n",
      " [[ 5  6]\n",
      "  [ 7  8]]\n",
      "\n",
      " [[ 9 10]\n",
      "  [11 12]]]\n"
     ]
    }
   ],
   "source": [
    "a = np.arange(1,13)\n",
    "print(a)\n",
    "b = a.reshape(3,2,2)\n",
    "print(b)"
   ]
  },
  {
   "cell_type": "markdown",
   "id": "745a9c5a",
   "metadata": {},
   "source": [
    "###### reshape 의미"
   ]
  },
  {
   "cell_type": "markdown",
   "id": "f9970307",
   "metadata": {},
   "source": [
    "###### reshape함수는 np.reshape(변경할 배열, 차원) 또는 배열.reshape(차원)으로 사용 할 수 있으며, 현재의 배열의 차원(1차원,2차원,3차원)을 변경하여 행렬을 반환하거나 하는 경우에 많이 이용되는 함수이다."
   ]
  },
  {
   "cell_type": "code",
   "execution_count": 58,
   "id": "a17572cb",
   "metadata": {},
   "outputs": [
    {
     "data": {
      "text/plain": [
       "array([[ 0,  1,  2,  3],\n",
       "       [ 4,  5,  6,  7],\n",
       "       [ 8,  9, 10, 11]])"
      ]
     },
     "execution_count": 58,
     "metadata": {},
     "output_type": "execute_result"
    }
   ],
   "source": [
    "x = np.arange(12)\n",
    "x = x.reshape(3,4)\n",
    "x"
   ]
  },
  {
   "cell_type": "markdown",
   "id": "d598d55d",
   "metadata": {},
   "source": [
    "###### reshape를 활용하는 경우를 보다 보면 입력 인수로 -1이 들어간 경우가 종종 있다. reshape()의 ‘-1’이 의미하는 바는, 변경된 배열의 ‘-1’ 위치의 차원은 “원래 배열의 길이와 남은 차원으로 부터 추정”이 된다는 뜻이다."
   ]
  },
  {
   "cell_type": "code",
   "execution_count": 67,
   "id": "13c14186",
   "metadata": {},
   "outputs": [
    {
     "data": {
      "text/plain": [
       "array([[ 0],\n",
       "       [ 1],\n",
       "       [ 2],\n",
       "       [ 3],\n",
       "       [ 4],\n",
       "       [ 5],\n",
       "       [ 6],\n",
       "       [ 7],\n",
       "       [ 8],\n",
       "       [ 9],\n",
       "       [10],\n",
       "       [11]])"
      ]
     },
     "execution_count": 67,
     "metadata": {},
     "output_type": "execute_result"
    }
   ],
   "source": [
    "x.reshape(-1,1)"
   ]
  },
  {
   "cell_type": "code",
   "execution_count": 64,
   "id": "285d9f05",
   "metadata": {},
   "outputs": [
    {
     "data": {
      "text/plain": [
       "array([[ 0,  1],\n",
       "       [ 2,  3],\n",
       "       [ 4,  5],\n",
       "       [ 6,  7],\n",
       "       [ 8,  9],\n",
       "       [10, 11]])"
      ]
     },
     "execution_count": 64,
     "metadata": {},
     "output_type": "execute_result"
    }
   ],
   "source": [
    "x.reshape(-1,2)"
   ]
  },
  {
   "cell_type": "code",
   "execution_count": 65,
   "id": "06ecba08",
   "metadata": {},
   "outputs": [
    {
     "data": {
      "text/plain": [
       "array([[ 0,  1,  2],\n",
       "       [ 3,  4,  5],\n",
       "       [ 6,  7,  8],\n",
       "       [ 9, 10, 11]])"
      ]
     },
     "execution_count": 65,
     "metadata": {},
     "output_type": "execute_result"
    }
   ],
   "source": [
    "x.reshape(-1,3)"
   ]
  },
  {
   "cell_type": "markdown",
   "id": "fac6b3df",
   "metadata": {},
   "source": [
    "#### ones()"
   ]
  },
  {
   "cell_type": "code",
   "execution_count": 82,
   "id": "774bfd3f",
   "metadata": {},
   "outputs": [
    {
     "name": "stdout",
     "output_type": "stream",
     "text": [
      "[[1. 1. 1.]\n",
      " [1. 1. 1.]\n",
      " [1. 1. 1.]\n",
      " [1. 1. 1.]]\n"
     ]
    }
   ],
   "source": [
    "y = np.ones([4,3])\n",
    "# z = y*0.3\n",
    "print(y)"
   ]
  },
  {
   "cell_type": "markdown",
   "id": "2f4cb2ec",
   "metadata": {},
   "source": [
    "#### Numpy 배열의 슬라이싱"
   ]
  },
  {
   "cell_type": "code",
   "execution_count": 86,
   "id": "56e04c88",
   "metadata": {},
   "outputs": [
    {
     "name": "stdout",
     "output_type": "stream",
     "text": [
      "[2, 12]\n"
     ]
    },
    {
     "ename": "TypeError",
     "evalue": "list indices must be integers or slices, not tuple",
     "output_type": "error",
     "traceback": [
      "\u001b[1;31m---------------------------------------------------------------------------\u001b[0m",
      "\u001b[1;31mTypeError\u001b[0m                                 Traceback (most recent call last)",
      "\u001b[1;32m<ipython-input-86-32eaf533dfc3>\u001b[0m in \u001b[0;36m<module>\u001b[1;34m\u001b[0m\n\u001b[0;32m      1\u001b[0m \u001b[0mlist1\u001b[0m \u001b[1;33m=\u001b[0m \u001b[1;33m[\u001b[0m\u001b[1;33m[\u001b[0m\u001b[1;36m1\u001b[0m\u001b[1;33m,\u001b[0m\u001b[1;36m11\u001b[0m\u001b[1;33m]\u001b[0m\u001b[1;33m,\u001b[0m\u001b[1;33m[\u001b[0m\u001b[1;36m2\u001b[0m\u001b[1;33m,\u001b[0m\u001b[1;36m12\u001b[0m\u001b[1;33m]\u001b[0m\u001b[1;33m,\u001b[0m\u001b[1;33m[\u001b[0m\u001b[1;36m3\u001b[0m\u001b[1;33m,\u001b[0m\u001b[1;36m13\u001b[0m\u001b[1;33m]\u001b[0m\u001b[1;33m,\u001b[0m\u001b[1;33m[\u001b[0m\u001b[1;36m4\u001b[0m\u001b[1;33m,\u001b[0m\u001b[1;36m14\u001b[0m\u001b[1;33m]\u001b[0m\u001b[1;33m]\u001b[0m\u001b[1;33m\u001b[0m\u001b[1;33m\u001b[0m\u001b[0m\n\u001b[0;32m      2\u001b[0m \u001b[0mprint\u001b[0m\u001b[1;33m(\u001b[0m\u001b[0mlist1\u001b[0m\u001b[1;33m[\u001b[0m\u001b[1;33m:\u001b[0m\u001b[1;33m]\u001b[0m\u001b[1;33m[\u001b[0m\u001b[1;36m1\u001b[0m\u001b[1;33m]\u001b[0m\u001b[1;33m)\u001b[0m\u001b[1;33m\u001b[0m\u001b[1;33m\u001b[0m\u001b[0m\n\u001b[1;32m----> 3\u001b[1;33m \u001b[0mprint\u001b[0m\u001b[1;33m(\u001b[0m\u001b[0mlist1\u001b[0m\u001b[1;33m[\u001b[0m\u001b[1;33m:\u001b[0m\u001b[1;33m,\u001b[0m\u001b[1;36m1\u001b[0m\u001b[1;33m]\u001b[0m\u001b[1;33m)\u001b[0m\u001b[1;33m\u001b[0m\u001b[1;33m\u001b[0m\u001b[0m\n\u001b[0m",
      "\u001b[1;31mTypeError\u001b[0m: list indices must be integers or slices, not tuple"
     ]
    }
   ],
   "source": [
    "list1 = [[1,11],[2,12],[3,13],[4,14]]\n",
    "print(list1[:][1])\n",
    "print(list1[:,1])"
   ]
  },
  {
   "cell_type": "code",
   "execution_count": 110,
   "id": "dae15bd8",
   "metadata": {},
   "outputs": [
    {
     "name": "stdout",
     "output_type": "stream",
     "text": [
      "[[ 1 11]\n",
      " [ 2 12]\n",
      " [ 3 13]\n",
      " [ 4 14]]\n",
      "[ 3 13]\n",
      "[[ 2 12]\n",
      " [ 3 13]\n",
      " [ 4 14]]\n"
     ]
    }
   ],
   "source": [
    "list1 = [[1,11],[2,12],[3,13],[4,14]]\n",
    "arr = np.array(list1)\n",
    "print(arr)\n",
    "# print(arr[:,1])\n",
    "print(arr[1:3][1])\n",
    "print(arr[1:4])"
   ]
  },
  {
   "cell_type": "markdown",
   "id": "8cf9b583",
   "metadata": {},
   "source": [
    "##### math 모듈의 sqrt()와 numpy 모듈의 sqrt() 비교\n"
   ]
  },
  {
   "cell_type": "code",
   "execution_count": 117,
   "id": "ae656b81",
   "metadata": {},
   "outputs": [
    {
     "ename": "TypeError",
     "evalue": "must be real number, not list",
     "output_type": "error",
     "traceback": [
      "\u001b[1;31m---------------------------------------------------------------------------\u001b[0m",
      "\u001b[1;31mTypeError\u001b[0m                                 Traceback (most recent call last)",
      "\u001b[1;32m<ipython-input-117-a371fd607665>\u001b[0m in \u001b[0;36m<module>\u001b[1;34m\u001b[0m\n\u001b[0;32m      1\u001b[0m \u001b[1;32mimport\u001b[0m \u001b[0mmath\u001b[0m\u001b[1;33m\u001b[0m\u001b[1;33m\u001b[0m\u001b[0m\n\u001b[0;32m      2\u001b[0m \u001b[0mmath\u001b[0m\u001b[1;33m.\u001b[0m\u001b[0msqrt\u001b[0m\u001b[1;33m(\u001b[0m\u001b[1;36m2\u001b[0m\u001b[1;33m)\u001b[0m\u001b[1;33m\u001b[0m\u001b[1;33m\u001b[0m\u001b[0m\n\u001b[1;32m----> 3\u001b[1;33m \u001b[0mmath\u001b[0m\u001b[1;33m.\u001b[0m\u001b[0msqrt\u001b[0m\u001b[1;33m(\u001b[0m\u001b[1;33m[\u001b[0m\u001b[1;36m2\u001b[0m\u001b[1;33m,\u001b[0m\u001b[1;36m3\u001b[0m\u001b[1;33m,\u001b[0m\u001b[1;36m4\u001b[0m\u001b[1;33m]\u001b[0m\u001b[1;33m)\u001b[0m\u001b[1;33m\u001b[0m\u001b[1;33m\u001b[0m\u001b[0m\n\u001b[0m",
      "\u001b[1;31mTypeError\u001b[0m: must be real number, not list"
     ]
    }
   ],
   "source": [
    "import math\n",
    "math.sqrt(2)\n",
    "math.sqrt([2,3,4])"
   ]
  },
  {
   "cell_type": "code",
   "execution_count": 120,
   "id": "182e1ea3",
   "metadata": {},
   "outputs": [
    {
     "data": {
      "text/plain": [
       "array([1.41421356, 1.73205081, 2.        ])"
      ]
     },
     "execution_count": 120,
     "metadata": {},
     "output_type": "execute_result"
    }
   ],
   "source": [
    "import numpy as np\n",
    "np.sqrt(2)\n",
    "np.sqrt([2,3,4])"
   ]
  },
  {
   "cell_type": "code",
   "execution_count": 123,
   "id": "30429326",
   "metadata": {},
   "outputs": [
    {
     "name": "stdout",
     "output_type": "stream",
     "text": [
      "[0. 0. 0. 0. 0. 0. 0. 0. 0. 0. 0. 0. 0. 0. 0.]\n"
     ]
    }
   ],
   "source": [
    "import numpy as np\n",
    "\n",
    "x = np.zeros(15)\n",
    "print(x)"
   ]
  },
  {
   "cell_type": "code",
   "execution_count": 126,
   "id": "168ae5a2",
   "metadata": {},
   "outputs": [
    {
     "name": "stdout",
     "output_type": "stream",
     "text": [
      "[[0. 0. 0.]\n",
      " [0. 0. 0.]\n",
      " [0. 0. 0.]\n",
      " [0. 0. 0.]\n",
      " [0. 0. 0.]]\n"
     ]
    }
   ],
   "source": [
    "y = np.zeros([5,3])\n",
    "print(y)"
   ]
  },
  {
   "cell_type": "code",
   "execution_count": 135,
   "id": "d81347f4",
   "metadata": {},
   "outputs": [
    {
     "name": "stdout",
     "output_type": "stream",
     "text": [
      "4\n"
     ]
    }
   ],
   "source": [
    "#원소를 4로만드는(3,5)형태로 reshape\n",
    "y = np.zeros([5,3])\n",
    "z = y.reshape([3,5])\n",
    "z =+4\n",
    "print(z)"
   ]
  },
  {
   "cell_type": "markdown",
   "id": "5af1c084",
   "metadata": {},
   "source": [
    "### 전치행렬\n",
    "##### transpose() – 행과 열을 교환하여 얻어지는 행렬 – 행렬의 값들을 주대각선을 기준으로 위치를 바꾼 행렬을 의미"
   ]
  },
  {
   "cell_type": "code",
   "execution_count": 142,
   "id": "2953b89d",
   "metadata": {},
   "outputs": [
    {
     "name": "stdout",
     "output_type": "stream",
     "text": [
      "[[1 2]\n",
      " [3 4]]\n",
      "\n",
      "\n",
      "[[1 3]\n",
      " [2 4]]\n"
     ]
    }
   ],
   "source": [
    "import numpy as np\n",
    "\n",
    "ary = np.array([[1,2],[3,4]])\n",
    "print(ary)\n",
    "print('\\n')\n",
    "trans_ary = ary.transpose()\n",
    "print(trans_ary)"
   ]
  },
  {
   "cell_type": "code",
   "execution_count": 144,
   "id": "0bdeca01",
   "metadata": {},
   "outputs": [
    {
     "name": "stdout",
     "output_type": "stream",
     "text": [
      "[[1 2 3]\n",
      " [4 5 6]]\n",
      "\n",
      "\n",
      "[[1 4]\n",
      " [2 5]\n",
      " [3 6]]\n"
     ]
    }
   ],
   "source": [
    "ary = np.array([[1,2,3],[4,5,6]])\n",
    "print(ary)\n",
    "print('\\n')\n",
    "trans_ary = ary.transpose()\n",
    "print(trans_ary)"
   ]
  },
  {
   "cell_type": "markdown",
   "id": "51e12551",
   "metadata": {},
   "source": [
    "##### 2개 배열에 대한 연산\n",
    "###### – 2개 배열에 저장된 내용을 인덱스별로 계산\n",
    "###### – 선형대수학의 사칙연산과 동일하게 작동 – 곱셈도 같은 원리로 동작"
   ]
  },
  {
   "cell_type": "code",
   "execution_count": 148,
   "id": "78bed2ea",
   "metadata": {},
   "outputs": [
    {
     "name": "stdout",
     "output_type": "stream",
     "text": [
      "[4 6 8]\n",
      "[ 3  8 15]\n",
      "[3 2 1]\n",
      "[0 0 2]\n",
      "[  3  16 125]\n"
     ]
    }
   ],
   "source": [
    "import numpy as np\n",
    "\n",
    "x = np.array((3,4,5))\n",
    "y = np.array((1,2,3))\n",
    "print(x+y)\n",
    "print(x*y)\n",
    "print(x//y)\n",
    "print(x%y)\n",
    "print(x**y)"
   ]
  },
  {
   "cell_type": "code",
   "execution_count": 160,
   "id": "41cf73cd",
   "metadata": {},
   "outputs": [
    {
     "name": "stdout",
     "output_type": "stream",
     "text": [
      "[ 249 1030 3131]\n"
     ]
    }
   ],
   "source": [
    "x = np.array((3,4,5))\n",
    "x **= 5\n",
    "x += 6\n",
    "print(x)"
   ]
  },
  {
   "cell_type": "markdown",
   "id": "d929cf7c",
   "metadata": {},
   "source": [
    "##### 인덱싱"
   ]
  },
  {
   "cell_type": "code",
   "execution_count": 162,
   "id": "8fbbaa9a",
   "metadata": {},
   "outputs": [
    {
     "name": "stdout",
     "output_type": "stream",
     "text": [
      "[4 5 6]\n",
      "[2 5 8]\n"
     ]
    }
   ],
   "source": [
    "x = np.array([[1,2,3],[4,5,6],[7,8,9]])\n",
    "print(x[1])\n",
    "print(x[:,1])"
   ]
  },
  {
   "cell_type": "markdown",
   "id": "65d2c8b7",
   "metadata": {},
   "source": [
    "##### 2개의 Numpy 배열 간의 계산"
   ]
  },
  {
   "cell_type": "code",
   "execution_count": 168,
   "id": "cce3a5ad",
   "metadata": {},
   "outputs": [
    {
     "name": "stdout",
     "output_type": "stream",
     "text": [
      "[ 9 11 13]\n",
      "[16 45 80]\n"
     ]
    }
   ],
   "source": [
    "# x의 1행과 y의 3행을 더한 값을 출력한다.\n",
    "import numpy as np\n",
    "x = np.array([[1,2,3],[4,5,6],[7,8,9]])\n",
    "y = np.array([[2,3,4],[5,6,7],[8,9,10]])\n",
    "print(x[0,:]+y[2,:])\n",
    "# x의 2열과 y의 3행을 곱한 값을 출력한다.\n",
    "print(x[:,1]*y[2,:])\n",
    "# print(x[:,1]*y[2])"
   ]
  },
  {
   "cell_type": "code",
   "execution_count": 169,
   "id": "041088c7",
   "metadata": {},
   "outputs": [
    {
     "name": "stdout",
     "output_type": "stream",
     "text": [
      "[False False False  True  True]\n"
     ]
    }
   ],
   "source": [
    "a = np.array([10,20,30,40,60])\n",
    "b = a >30\n",
    "\n",
    "print(b)"
   ]
  },
  {
   "cell_type": "markdown",
   "id": "c6834e89",
   "metadata": {},
   "source": [
    "#### linspace()"
   ]
  },
  {
   "cell_type": "code",
   "execution_count": 189,
   "id": "9a3614f0",
   "metadata": {},
   "outputs": [
    {
     "name": "stdout",
     "output_type": "stream",
     "text": [
      "[0.49754331 0.07083704 0.82471989 0.01813293 0.01481175]\n"
     ]
    }
   ],
   "source": [
    "import numpy as np\n",
    "\n",
    "ary = np.random.random(5)\n",
    "print(ary)"
   ]
  },
  {
   "cell_type": "code",
   "execution_count": 248,
   "id": "057458fe",
   "metadata": {},
   "outputs": [
    {
     "name": "stdout",
     "output_type": "stream",
     "text": [
      "[0.63992102 0.14335329 0.94466892 0.52184832 0.41466194]\n",
      "\n",
      "\n",
      "[[0.26455561 0.77423369 0.45615033]\n",
      " [0.56843395 0.0187898  0.6176355 ]] (2, 3)\n"
     ]
    }
   ],
   "source": [
    "#[0, 1] 범위에서 균일한 분포\n",
    "a = np.random.rand(5)\n",
    "print(a)\n",
    "print('\\n')\n",
    "b = np.random.rand(2, 3)\n",
    "print(b, b.shape)"
   ]
  },
  {
   "cell_type": "code",
   "execution_count": 247,
   "id": "80681157",
   "metadata": {},
   "outputs": [
    {
     "name": "stdout",
     "output_type": "stream",
     "text": [
      "[1 1 0 1 1]\n",
      "[2 2 3 2 3]\n",
      "[[4 2 4]\n",
      " [4 3 4]]\n"
     ]
    }
   ],
   "source": [
    "a = np.random.randint(2, size=5)\n",
    "print(a)\n",
    "\n",
    "b = np.random.randint(2, 4, size=5)\n",
    "print(b)\n",
    "\n",
    "c = np.random.randint(1, 5, size=(2, 3))\n",
    "print(c)"
   ]
  },
  {
   "cell_type": "markdown",
   "id": "64f256a4",
   "metadata": {},
   "source": [
    "#### random.seed()¶"
   ]
  },
  {
   "cell_type": "code",
   "execution_count": 470,
   "id": "6c626ca7",
   "metadata": {},
   "outputs": [
    {
     "name": "stdout",
     "output_type": "stream",
     "text": [
      "[[0.5488135  0.71518937 0.60276338]\n",
      " [0.54488318 0.4236548  0.64589411]]\n"
     ]
    }
   ],
   "source": [
    "import numpy as np\n",
    "\n",
    "np.random.seed(0)\n",
    "\n",
    "print(np.random.rand(2, 3))"
   ]
  },
  {
   "cell_type": "code",
   "execution_count": 511,
   "id": "b8105efc",
   "metadata": {},
   "outputs": [
    {
     "name": "stdout",
     "output_type": "stream",
     "text": [
      "[0.5488135  0.71518937 0.60276338 0.54488318 0.4236548 ] [0.64589411 0.43758721 0.891773   0.96366276 0.38344152]\n"
     ]
    }
   ],
   "source": [
    "np.random.seed(0)\n",
    "a = np.random.rand(5)\n",
    "b = np.random.rand(5)\n",
    "print(a,b)\n",
    "\n",
    "# print(a >0.12)\n",
    "# print(np.all(a>0.12))\n",
    "# print(a)"
   ]
  },
  {
   "cell_type": "markdown",
   "id": "9614ecef",
   "metadata": {},
   "source": [
    "#### any()와 all()의 비교"
   ]
  },
  {
   "cell_type": "code",
   "execution_count": 512,
   "id": "7c6f0923",
   "metadata": {},
   "outputs": [
    {
     "name": "stdout",
     "output_type": "stream",
     "text": [
      "[0.79172504 0.52889492 0.56804456 0.92559664 0.07103606]\n",
      "[ True  True  True  True False]\n",
      "False\n"
     ]
    }
   ],
   "source": [
    "a = np.random.rand(5)\n",
    "print(a)\n",
    "print(a>0.12)\n",
    "print(np.all(a>0.12))"
   ]
  },
  {
   "cell_type": "code",
   "execution_count": 461,
   "id": "f4c7e657",
   "metadata": {},
   "outputs": [
    {
     "name": "stdout",
     "output_type": "stream",
     "text": [
      "[False False False False  True]\n",
      "True\n"
     ]
    }
   ],
   "source": [
    "a = np.random.rand(5)\n",
    "print(a>0.9)\n",
    "print(np.any(a>0.9))"
   ]
  },
  {
   "cell_type": "markdown",
   "id": "32fadf7f",
   "metadata": {},
   "source": [
    "#### linspace()"
   ]
  },
  {
   "cell_type": "markdown",
   "id": "ddcab176",
   "metadata": {},
   "source": [
    "##### 시작과 끝의 값을 지정하고 그 사이의 값을 균등하게 배분 0과 12를 포함한 그 사이의 값들을 선형적으로 분배하여 모두 4개의 원소를 갖는 배열을 생성\n",
    "##### numpy.linspace(start, stop, num=50, endpoint=True, retstep=False, dtype=None, axis=0)"
   ]
  },
  {
   "cell_type": "code",
   "execution_count": 522,
   "id": "183f60a0",
   "metadata": {},
   "outputs": [
    {
     "data": {
      "text/plain": [
       "array([ 0.,  4.,  8., 12.])"
      ]
     },
     "execution_count": 522,
     "metadata": {},
     "output_type": "execute_result"
    }
   ],
   "source": [
    "np.linspace(0,12,4)"
   ]
  },
  {
   "cell_type": "code",
   "execution_count": 523,
   "id": "92b7594a",
   "metadata": {},
   "outputs": [],
   "source": [
    "# retstep=True이면 샘플 간의 간격을 출력"
   ]
  },
  {
   "cell_type": "code",
   "execution_count": 520,
   "id": "828fb56a",
   "metadata": {},
   "outputs": [
    {
     "data": {
      "text/plain": [
       "array([ 2. ,  4.2,  6.4,  8.6, 10.8])"
      ]
     },
     "execution_count": 520,
     "metadata": {},
     "output_type": "execute_result"
    }
   ],
   "source": [
    "np.linspace(2, 13, 5, endpoint = False)"
   ]
  }
 ],
 "metadata": {
  "kernelspec": {
   "display_name": "Python 3",
   "language": "python",
   "name": "python3"
  },
  "language_info": {
   "codemirror_mode": {
    "name": "ipython",
    "version": 3
   },
   "file_extension": ".py",
   "mimetype": "text/x-python",
   "name": "python",
   "nbconvert_exporter": "python",
   "pygments_lexer": "ipython3",
   "version": "3.8.9"
  }
 },
 "nbformat": 4,
 "nbformat_minor": 5
}
